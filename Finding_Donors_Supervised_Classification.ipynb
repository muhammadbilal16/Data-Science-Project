{
 "cells": [
  {
   "cell_type": "code",
   "execution_count": 1,
   "id": "90529cb6-5050-48c9-83c8-f61220adf9c3",
   "metadata": {},
   "outputs": [],
   "source": [
    "#Importing libraries necessary for this project\n",
    "import numpy as np\n",
    "import pandas as pd\n",
    "from time import time\n",
    "\n",
    "# importing libraries for visuallization\n",
    "import seaborn as sns\n",
    "import matplotlib.pyplot as plt\n",
    "import visuals as vs\n",
    "\n",
    "# Pretty display for notebooks\n",
    "%matplotlib inline\n",
    "\n",
    "from __future__ import division\n"
   ]
  },
  {
   "cell_type": "code",
   "execution_count": 2,
   "id": "dab7f39b-dbc7-48a0-9c26-d82fc5615fd2",
   "metadata": {},
   "outputs": [],
   "source": [
    "# Loading the Census dataset\n",
    "data = pd.read_csv(\"census.csv\")"
   ]
  },
  {
   "cell_type": "code",
   "execution_count": 3,
   "id": "53b89e99-3c5e-4fe3-8b86-5fb7b8aaafd8",
   "metadata": {},
   "outputs": [
    {
     "data": {
      "text/html": [
       "<div>\n",
       "<style scoped>\n",
       "    .dataframe tbody tr th:only-of-type {\n",
       "        vertical-align: middle;\n",
       "    }\n",
       "\n",
       "    .dataframe tbody tr th {\n",
       "        vertical-align: top;\n",
       "    }\n",
       "\n",
       "    .dataframe thead th {\n",
       "        text-align: right;\n",
       "    }\n",
       "</style>\n",
       "<table border=\"1\" class=\"dataframe\">\n",
       "  <thead>\n",
       "    <tr style=\"text-align: right;\">\n",
       "      <th></th>\n",
       "      <th>age</th>\n",
       "      <th>workclass</th>\n",
       "      <th>education_level</th>\n",
       "      <th>education-num</th>\n",
       "      <th>marital-status</th>\n",
       "      <th>occupation</th>\n",
       "      <th>relationship</th>\n",
       "      <th>race</th>\n",
       "      <th>sex</th>\n",
       "      <th>capital-gain</th>\n",
       "      <th>capital-loss</th>\n",
       "      <th>hours-per-week</th>\n",
       "      <th>native-country</th>\n",
       "      <th>income</th>\n",
       "    </tr>\n",
       "  </thead>\n",
       "  <tbody>\n",
       "    <tr>\n",
       "      <th>0</th>\n",
       "      <td>39</td>\n",
       "      <td>State-gov</td>\n",
       "      <td>Bachelors</td>\n",
       "      <td>13.0</td>\n",
       "      <td>Never-married</td>\n",
       "      <td>Adm-clerical</td>\n",
       "      <td>Not-in-family</td>\n",
       "      <td>White</td>\n",
       "      <td>Male</td>\n",
       "      <td>2174.0</td>\n",
       "      <td>0.0</td>\n",
       "      <td>40.0</td>\n",
       "      <td>United-States</td>\n",
       "      <td>&lt;=50K</td>\n",
       "    </tr>\n",
       "    <tr>\n",
       "      <th>1</th>\n",
       "      <td>50</td>\n",
       "      <td>Self-emp-not-inc</td>\n",
       "      <td>Bachelors</td>\n",
       "      <td>13.0</td>\n",
       "      <td>Married-civ-spouse</td>\n",
       "      <td>Exec-managerial</td>\n",
       "      <td>Husband</td>\n",
       "      <td>White</td>\n",
       "      <td>Male</td>\n",
       "      <td>0.0</td>\n",
       "      <td>0.0</td>\n",
       "      <td>13.0</td>\n",
       "      <td>United-States</td>\n",
       "      <td>&lt;=50K</td>\n",
       "    </tr>\n",
       "  </tbody>\n",
       "</table>\n",
       "</div>"
      ],
      "text/plain": [
       "   age          workclass education_level  education-num       marital-status  \\\n",
       "0   39          State-gov       Bachelors           13.0        Never-married   \n",
       "1   50   Self-emp-not-inc       Bachelors           13.0   Married-civ-spouse   \n",
       "\n",
       "         occupation    relationship    race    sex  capital-gain  \\\n",
       "0      Adm-clerical   Not-in-family   White   Male        2174.0   \n",
       "1   Exec-managerial         Husband   White   Male           0.0   \n",
       "\n",
       "   capital-loss  hours-per-week  native-country income  \n",
       "0           0.0            40.0   United-States  <=50K  \n",
       "1           0.0            13.0   United-States  <=50K  "
      ]
     },
     "execution_count": 3,
     "metadata": {},
     "output_type": "execute_result"
    }
   ],
   "source": [
    "# Will Display the first record\n",
    "data.head(n=2)"
   ]
  },
  {
   "cell_type": "code",
   "execution_count": 4,
   "id": "34ab32cf-af93-4feb-b5f8-3037eea5c81c",
   "metadata": {},
   "outputs": [
    {
     "name": "stdout",
     "output_type": "stream",
     "text": [
      "<class 'pandas.core.frame.DataFrame'>\n",
      "RangeIndex: 45222 entries, 0 to 45221\n",
      "Data columns (total 14 columns):\n",
      " #   Column           Non-Null Count  Dtype  \n",
      "---  ------           --------------  -----  \n",
      " 0   age              45222 non-null  int64  \n",
      " 1   workclass        45222 non-null  object \n",
      " 2   education_level  45222 non-null  object \n",
      " 3   education-num    45222 non-null  float64\n",
      " 4   marital-status   45222 non-null  object \n",
      " 5   occupation       45222 non-null  object \n",
      " 6   relationship     45222 non-null  object \n",
      " 7   race             45222 non-null  object \n",
      " 8   sex              45222 non-null  object \n",
      " 9   capital-gain     45222 non-null  float64\n",
      " 10  capital-loss     45222 non-null  float64\n",
      " 11  hours-per-week   45222 non-null  float64\n",
      " 12  native-country   45222 non-null  object \n",
      " 13  income           45222 non-null  object \n",
      "dtypes: float64(4), int64(1), object(9)\n",
      "memory usage: 4.8+ MB\n"
     ]
    }
   ],
   "source": [
    "# checking datatype of features\n",
    "data.info()"
   ]
  },
  {
   "cell_type": "code",
   "execution_count": 5,
   "id": "3afa0ad8-80cb-481f-8374-149d99f5cde1",
   "metadata": {},
   "outputs": [],
   "source": [
    "#Total no of records\n",
    "n_records = len(data)"
   ]
  },
  {
   "cell_type": "code",
   "execution_count": 6,
   "id": "dc2f55fb-0885-4dd4-a9ea-6211220e0b87",
   "metadata": {},
   "outputs": [],
   "source": [
    "# Number of records where individual's income is more than $50,000\n",
    "n_greater_50k = len(data[data['income'] =='>50K'])"
   ]
  },
  {
   "cell_type": "code",
   "execution_count": 7,
   "id": "7b5cd39b-f639-44a8-b6b7-691ce4fd7d2e",
   "metadata": {},
   "outputs": [],
   "source": [
    "# Number of records where individual's income is at most $50,000\n",
    "n_at_most_50k = len(data[data['income'] == '<=50K'])"
   ]
  },
  {
   "cell_type": "code",
   "execution_count": 8,
   "id": "c4626bb5-66a8-49a4-9b19-f457b1307dde",
   "metadata": {},
   "outputs": [],
   "source": [
    "# Percentage of individuals whose income is more than $50,000\n",
    "greater_percent = 100 * n_greater_50k/n_records"
   ]
  },
  {
   "cell_type": "code",
   "execution_count": 9,
   "id": "ad60c1db-9452-4ed1-85ea-c45d8d667449",
   "metadata": {},
   "outputs": [
    {
     "name": "stdout",
     "output_type": "stream",
     "text": [
      "Total no of Records: 45222\n",
      "Individuals making more than 50K: 11208\n",
      "Individuals making at_most 50K: 34014\n",
      "Percentage of individuals making more than $50,000: 24.78%\n"
     ]
    }
   ],
   "source": [
    "# Printing Results\n",
    "print (\"Total no of Records: {}\".format(n_records))\n",
    "print(\"Individuals making more than 50K: {}\".format(n_greater_50k))\n",
    "print(\"Individuals making at_most 50K: {}\".format(n_at_most_50k))\n",
    "print (\"Percentage of individuals making more than $50,000: {:.2f}%\".format(greater_percent))"
   ]
  },
  {
   "cell_type": "markdown",
   "id": "6df1b1de-ac57-463d-a42a-e25d7420b4f2",
   "metadata": {},
   "source": [
    "###EDA"
   ]
  },
  {
   "cell_type": "code",
   "execution_count": 10,
   "id": "14825dcd-afc6-4e4a-9a30-f898a360d5d1",
   "metadata": {},
   "outputs": [
    {
     "data": {
      "text/plain": [
       "<seaborn.axisgrid.FacetGrid at 0x242fd614f40>"
      ]
     },
     "execution_count": 10,
     "metadata": {},
     "output_type": "execute_result"
    },
    {
     "data": {
      "image/png": "[encoded data removed]",
      "text/plain": [
       "<Figure size 1511.72x1440 with 16 Axes>"
      ]
     },
     "metadata": {},
     "output_type": "display_data"
    }
   ],
   "source": [
    "sns.set(style=\"whitegrid\", color_codes=True)\n",
    "sns.catplot(x='sex', col='education_level', data=data, hue='income', kind='count', col_wrap=4)"
   ]
  },
  {
   "cell_type": "markdown",
   "id": "09fc3c67-dd23-4a18-9c7d-4123c49c87c2",
   "metadata": {},
   "source": [
    "## Preprocessing"
   ]
  },
  {
   "cell_type": "code",
   "execution_count": 17,
   "id": "68e6292f-7b80-4a34-aee0-9290fed50c70",
   "metadata": {},
   "outputs": [],
   "source": [
    "def distribution(data, transformed = False):\n",
    "    \"\"\"\n",
    "    Visualization code for displaying skewed distributions of features\n",
    "    \"\"\"\n",
    "    \n",
    "    # Create figure\n",
    "    fig = pl.figure(figsize = (17,8));\n",
    "\n",
    "    # Skewed feature plotting\n",
    "    for i, feature in enumerate(['capital-gain','capital-loss']):\n",
    "        ax = fig.add_subplot(1, 2, i+1)\n",
    "        ax.hist(data[feature], bins = 25, color = '#00A0A0')\n",
    "        ax.set_title(\"'%s' Feature Distribution\"%(feature), fontsize = 14)\n"
   ]
  },
  {
   "cell_type": "code",
   "execution_count": 40,
   "id": "8c3108ee-6c10-484f-8845-b24c05f6034a",
   "metadata": {},
   "outputs": [
    {
     "data": {
      "text/plain": [
       "[Text(0, 0, '0'),\n",
       " Text(0, 500, '500'),\n",
       " Text(0, 1000, '1000'),\n",
       " Text(0, 1500, '1500'),\n",
       " Text(0, 2000, '>2000')]"
      ]
     },
     "execution_count": 40,
     "metadata": {},
     "output_type": "execute_result"
    },
    {
     "data": {
      "image/png": "[encoded data removed]",
      "text/plain": [
       "<Figure size 432x288 with 1 Axes>"
      ]
     },
     "metadata": {},
     "output_type": "display_data"
    }
   ],
   "source": [
    "ax =sns.histplot(data=data[['capital-gain']])\n",
    "ax.set_xlabel(\"Value\")\n",
    "ax.set_ylabel(\"Number of Records\")\n",
    "ax.set_ylim((0, 2000))\n",
    "ax.set_yticks([0, 500, 1000, 1500, 2000])\n",
    "ax.set_yticklabels([0, 500, 1000, 1500, \">2000\"])"
   ]
  },
  {
   "cell_type": "code",
   "execution_count": 42,
   "id": "82da01b8-3542-467f-8f47-f59f26320567",
   "metadata": {},
   "outputs": [
    {
     "data": {
      "text/plain": [
       "[Text(0, 0, '0'),\n",
       " Text(0, 500, '500'),\n",
       " Text(0, 1000, '1000'),\n",
       " Text(0, 1500, '1500'),\n",
       " Text(0, 2000, '>2000')]"
      ]
     },
     "execution_count": 42,
     "metadata": {},
     "output_type": "execute_result"
    },
    {
     "data": {
      "image/png": "[encoded data removed]",
      "text/plain": [
       "<Figure size 432x288 with 1 Axes>"
      ]
     },
     "metadata": {},
     "output_type": "display_data"
    }
   ],
   "source": [
    "ax =sns.histplot(data=data[['capital-loss']])\n",
    "ax.set_xlabel(\"Value\")\n",
    "ax.set_ylabel(\"Number of Records\")\n",
    "ax.set_ylim((0, 2000))\n",
    "ax.set_yticks([0, 500, 1000, 1500, 2000])\n",
    "ax.set_yticklabels([0, 500, 1000, 1500, \">2000\"])"
   ]
  },
  {
   "cell_type": "code",
   "execution_count": 29,
   "id": "4e91ff74-3a5e-4e0f-8f03-15f5a5e2dc7f",
   "metadata": {},
   "outputs": [
    {
     "data": {
      "text/plain": [
       "[Text(0, 0, '0'),\n",
       " Text(0, 500, '500'),\n",
       " Text(0, 1000, '1000'),\n",
       " Text(0, 1500, '1500'),\n",
       " Text(0, 2000, '>2000')]"
      ]
     },
     "execution_count": 29,
     "metadata": {},
     "output_type": "execute_result"
    },
    {
     "data": {
      "image/png": "[encoded data removed]",
      "text/plain": [
       "<Figure size 432x288 with 1 Axes>"
      ]
     },
     "metadata": {},
     "output_type": "display_data"
    }
   ],
   "source": [
    "ax =sns.histplot(data=data[['capital-gain']].apply(lambda x: np.log(x + 1)))\n",
    "ax.set_xlabel(\"Value\")\n",
    "ax.set_ylabel(\"Number of Records\")\n",
    "ax.set_ylim((0, 2000))\n",
    "ax.set_yticks([0, 500, 1000, 1500, 2000])\n",
    "ax.set_yticklabels([0, 500, 1000, 1500, \">2000\"])\n",
    "             "
   ]
  },
  {
   "cell_type": "code",
   "execution_count": 36,
   "id": "fcd54c46-ce12-4232-b1bb-3da3459b74c3",
   "metadata": {},
   "outputs": [
    {
     "data": {
      "text/plain": [
       "[Text(0, 0, '0'),\n",
       " Text(0, 500, '500'),\n",
       " Text(0, 1000, '1000'),\n",
       " Text(0, 1500, '1500'),\n",
       " Text(0, 2000, '>2000')]"
      ]
     },
     "execution_count": 36,
     "metadata": {},
     "output_type": "execute_result"
    },
    {
     "data": {
      "image/png": "[encoded data removed]",
      "text/plain": [
       "<Figure size 432x288 with 1 Axes>"
      ]
     },
     "metadata": {},
     "output_type": "display_data"
    }
   ],
   "source": [
    "ax =sns.histplot(data=data[['capital-loss']].apply(lambda x: np.log(x + 1)))\n",
    "ax.set_xlabel(\"Value\")\n",
    "ax.set_ylabel(\"Number of Records\")\n",
    "ax.set_ylim((0, 2000))\n",
    "ax.set_yticks([0, 500, 1000, 1500, 2000])\n",
    "ax.set_yticklabels([0, 500, 1000, 1500, '>2000'])"
   ]
  },
  {
   "cell_type": "markdown",
   "id": "22b37dd0-37e0-421d-9337-864fabbbeb4a",
   "metadata": {},
   "source": [
    "## Feature Scaling"
   ]
  },
  {
   "cell_type": "code",
   "execution_count": 45,
   "id": "ae97bc7a-27e2-4d70-9960-1639bf668937",
   "metadata": {},
   "outputs": [
    {
     "data": {
      "text/html": [
       "<div>\n",
       "<style scoped>\n",
       "    .dataframe tbody tr th:only-of-type {\n",
       "        vertical-align: middle;\n",
       "    }\n",
       "\n",
       "    .dataframe tbody tr th {\n",
       "        vertical-align: top;\n",
       "    }\n",
       "\n",
       "    .dataframe thead th {\n",
       "        text-align: right;\n",
       "    }\n",
       "</style>\n",
       "<table border=\"1\" class=\"dataframe\">\n",
       "  <thead>\n",
       "    <tr style=\"text-align: right;\">\n",
       "      <th></th>\n",
       "      <th>age</th>\n",
       "      <th>workclass</th>\n",
       "      <th>education_level</th>\n",
       "      <th>education-num</th>\n",
       "      <th>marital-status</th>\n",
       "      <th>occupation</th>\n",
       "      <th>relationship</th>\n",
       "      <th>race</th>\n",
       "      <th>sex</th>\n",
       "      <th>capital-gain</th>\n",
       "      <th>capital-loss</th>\n",
       "      <th>hours-per-week</th>\n",
       "      <th>native-country</th>\n",
       "    </tr>\n",
       "  </thead>\n",
       "  <tbody>\n",
       "    <tr>\n",
       "      <th>0</th>\n",
       "      <td>0.30137</td>\n",
       "      <td>State-gov</td>\n",
       "      <td>Bachelors</td>\n",
       "      <td>0.8</td>\n",
       "      <td>Never-married</td>\n",
       "      <td>Adm-clerical</td>\n",
       "      <td>Not-in-family</td>\n",
       "      <td>White</td>\n",
       "      <td>Male</td>\n",
       "      <td>0.02174</td>\n",
       "      <td>0.0</td>\n",
       "      <td>0.397959</td>\n",
       "      <td>United-States</td>\n",
       "    </tr>\n",
       "  </tbody>\n",
       "</table>\n",
       "</div>"
      ],
      "text/plain": [
       "       age   workclass education_level  education-num  marital-status  \\\n",
       "0  0.30137   State-gov       Bachelors            0.8   Never-married   \n",
       "\n",
       "      occupation    relationship    race    sex  capital-gain  capital-loss  \\\n",
       "0   Adm-clerical   Not-in-family   White   Male       0.02174           0.0   \n",
       "\n",
       "   hours-per-week  native-country  \n",
       "0        0.397959   United-States  "
      ]
     },
     "metadata": {},
     "output_type": "display_data"
    }
   ],
   "source": [
    "# Import sklearn.preprocessing.StandardScaler\n",
    "from sklearn.preprocessing import MinMaxScaler\n",
    "\n",
    "# Initialize a scaler, then apply it to the features\n",
    "scaler = MinMaxScaler()\n",
    "numerical = ['age', 'education-num', 'capital-gain', 'capital-loss', 'hours-per-week']\n",
    "features_raw[numerical] = scaler.fit_transform(data[numerical])\n",
    "\n",
    "# Show an example of a record with scaling applied\n",
    "display(features_raw.head(n = 1))"
   ]
  },
  {
   "cell_type": "markdown",
   "id": "80c286a4-ba41-451f-b996-ef2aeaba6431",
   "metadata": {},
   "source": [
    "## Data Preprocessing"
   ]
  },
  {
   "cell_type": "code",
   "execution_count": 46,
   "id": "0dc2735a-2b6a-472b-a6c5-2f471aae5cf3",
   "metadata": {},
   "outputs": [],
   "source": [
    "features_raw = data.drop('income', axis = 1)"
   ]
  },
  {
   "cell_type": "code",
   "execution_count": 47,
   "id": "2188a4b5-cff7-4dc4-aeb6-12e517707f39",
   "metadata": {},
   "outputs": [],
   "source": [
    "features = pd.get_dummies(features_raw)"
   ]
  },
  {
   "cell_type": "code",
   "execution_count": 48,
   "id": "75c25fce-6e03-4800-b986-19214e0913fb",
   "metadata": {},
   "outputs": [],
   "source": [
    "income_raw = data['income']"
   ]
  },
  {
   "cell_type": "code",
   "execution_count": 49,
   "id": "155dfa89-87a5-491a-9532-cdf0ada47c92",
   "metadata": {},
   "outputs": [],
   "source": [
    "income = income_raw.apply(lambda x: 1 if x == '>50K' else 0)"
   ]
  },
  {
   "cell_type": "code",
   "execution_count": 50,
   "id": "8ce29126-a1a0-40e8-b84e-8a9aa350e82d",
   "metadata": {},
   "outputs": [],
   "source": [
    "encoded = list(features.columns)"
   ]
  },
  {
   "cell_type": "code",
   "execution_count": 51,
   "id": "b09d869a-13b3-4cd9-9318-a56805cacf51",
   "metadata": {},
   "outputs": [
    {
     "name": "stdout",
     "output_type": "stream",
     "text": [
      "103 total features after one-hot encoding.\n"
     ]
    }
   ],
   "source": [
    "print (\"{} total features after one-hot encoding.\".format(len(encoded)))"
   ]
  },
  {
   "cell_type": "markdown",
   "id": "cc02ca54-e1a2-44dd-9c2c-703942566a69",
   "metadata": {},
   "source": [
    "## Model"
   ]
  },
  {
   "cell_type": "code",
   "execution_count": 57,
   "id": "54cd6135-9eab-4dba-b6de-b73891ab87c0",
   "metadata": {},
   "outputs": [
    {
     "name": "stdout",
     "output_type": "stream",
     "text": [
      "Training set has 36177 samples.\n",
      "Testing set has 9045 samples.\n"
     ]
    }
   ],
   "source": [
    "from sklearn.model_selection import train_test_split\n",
    "X_train, X_test, y_train, y_test = train_test_split(features,income, test_size=0.2, random_state=0)\n",
    "print (\"Training set has {} samples.\".format(X_train.shape[0]))\n",
    "print (\"Testing set has {} samples.\".format(X_test.shape[0]))"
   ]
  },
  {
   "cell_type": "markdown",
   "id": "fc3f9208-4ebd-440d-abe4-722167207aee",
   "metadata": {},
   "source": [
    "## Evaluating Model Performance"
   ]
  },
  {
   "cell_type": "markdown",
   "id": "56b2ace5-dd8d-4347-a0a0-70e00e72707d",
   "metadata": {},
   "source": [
    "*** Naive Predictor Performance "
   ]
  },
  {
   "cell_type": "code",
   "execution_count": 60,
   "id": "d1ded560-399d-485e-89fe-0b27c9e5ef36",
   "metadata": {},
   "outputs": [
    {
     "name": "stdout",
     "output_type": "stream",
     "text": [
      "Naive Predictor: [Accuracy score: 0.2478, F-score: 0.2917]\n"
     ]
    }
   ],
   "source": [
    "accuracy = n_greater_50k / n_records\n",
    "\n",
    "# Calculating precision\n",
    "precision = n_greater_50k / (n_greater_50k + n_at_most_50k)\n",
    "\n",
    "#Calculating recall\n",
    "recall = n_greater_50k / (n_greater_50k + 0)\n",
    "\n",
    "# TODO: Calculate F-score using the formula above for beta = 0.5\n",
    "fscore =  (1  + (0.5*0.5)) * ( precision * recall / (( 0.5*0.5 * (precision))+ recall))\n",
    "\n",
    "# Print the results \n",
    "print (\"Naive Predictor: [Accuracy score: {:.4f}, F-score: {:.4f}]\".format(accuracy, fscore))"
   ]
  },
  {
   "cell_type": "markdown",
   "id": "2e91b580-99c4-4172-9b0f-f83f58485c60",
   "metadata": {},
   "source": [
    "## Decision Tree Classifier"
   ]
  },
  {
   "cell_type": "code",
   "execution_count": 72,
   "id": "69e324f5-9d07-46a2-8383-6b010c370509",
   "metadata": {},
   "outputs": [],
   "source": [
    "from sklearn.tree import DecisionTreeClassifier"
   ]
  },
  {
   "cell_type": "code",
   "execution_count": 73,
   "id": "0542c42a-f927-4a96-91b4-5ef867417637",
   "metadata": {},
   "outputs": [],
   "source": [
    "dtree = DecisionTreeClassifier()"
   ]
  },
  {
   "cell_type": "code",
   "execution_count": 74,
   "id": "2cf100f5-5bad-4cd2-ae46-6df93f1b203f",
   "metadata": {},
   "outputs": [
    {
     "data": {
      "text/plain": [
       "DecisionTreeClassifier()"
      ]
     },
     "execution_count": 74,
     "metadata": {},
     "output_type": "execute_result"
    }
   ],
   "source": [
    "dtree.fit(X_train,y_train)"
   ]
  },
  {
   "cell_type": "code",
   "execution_count": 76,
   "id": "61d9a925-c477-48ef-ba0b-f7f548df458d",
   "metadata": {},
   "outputs": [],
   "source": [
    "predictions = dtree.predict(X_test)"
   ]
  },
  {
   "cell_type": "code",
   "execution_count": 77,
   "id": "4504d109-74ac-4bc5-ae58-85eadccf91c9",
   "metadata": {},
   "outputs": [],
   "source": [
    "from sklearn.metrics import classification_report, confusion_matrix"
   ]
  },
  {
   "cell_type": "code",
   "execution_count": 78,
   "id": "19c84f9d-a4c2-4a85-a509-1031f0c114d4",
   "metadata": {},
   "outputs": [
    {
     "name": "stdout",
     "output_type": "stream",
     "text": [
      "              precision    recall  f1-score   support\n",
      "\n",
      "           0       0.88      0.88      0.88      6840\n",
      "           1       0.63      0.61      0.62      2205\n",
      "\n",
      "    accuracy                           0.82      9045\n",
      "   macro avg       0.75      0.75      0.75      9045\n",
      "weighted avg       0.82      0.82      0.82      9045\n",
      "\n"
     ]
    }
   ],
   "source": [
    "print(classification_report(y_test,predictions))"
   ]
  },
  {
   "cell_type": "code",
   "execution_count": 81,
   "id": "4797f24e-f71f-4536-b4eb-1760d6654e7d",
   "metadata": {},
   "outputs": [],
   "source": [
    "accuracy = (0.75/0.82)*100"
   ]
  },
  {
   "cell_type": "code",
   "execution_count": 82,
   "id": "6b61ea71-468f-4821-bd47-9914f376215f",
   "metadata": {},
   "outputs": [
    {
     "name": "stdout",
     "output_type": "stream",
     "text": [
      "91.46341463414635\n"
     ]
    }
   ],
   "source": [
    "print(accuracy)"
   ]
  },
  {
   "cell_type": "code",
   "execution_count": 83,
   "id": "14b2038a-bc9e-4f19-8de1-e42aca6ab9f7",
   "metadata": {},
   "outputs": [
    {
     "name": "stdout",
     "output_type": "stream",
     "text": [
      "[[6047  793]\n",
      " [ 853 1352]]\n"
     ]
    }
   ],
   "source": [
    "print(confusion_matrix(y_test,predictions))"
   ]
  },
  {
   "cell_type": "code",
   "execution_count": null,
   "id": "364cb02f-370c-4a36-8836-6bce8909c5f6",
   "metadata": {},
   "outputs": [],
   "source": []
  },
  {
   "cell_type": "markdown",
   "id": "f8eb8d15-3a73-4aab-b369-3aedf31574ae",
   "metadata": {},
   "source": [
    "## Random Forest Classifier "
   ]
  },
  {
   "cell_type": "code",
   "execution_count": 85,
   "id": "8099cdc8-f74f-456f-b969-78535e4411b9",
   "metadata": {},
   "outputs": [],
   "source": [
    "from sklearn.ensemble import RandomForestClassifier"
   ]
  },
  {
   "cell_type": "code",
   "execution_count": 90,
   "id": "ce993e9c-b12f-4851-a4ce-97e722aeec19",
   "metadata": {},
   "outputs": [],
   "source": [
    "rfc = RandomForestClassifier(n_estimators=300)"
   ]
  },
  {
   "cell_type": "code",
   "execution_count": 91,
   "id": "300c329e-0bc4-486f-97eb-5208acafdc41",
   "metadata": {},
   "outputs": [
    {
     "data": {
      "text/plain": [
       "RandomForestClassifier(n_estimators=300)"
      ]
     },
     "execution_count": 91,
     "metadata": {},
     "output_type": "execute_result"
    }
   ],
   "source": [
    "rfc.fit(X_train,y_train)"
   ]
  },
  {
   "cell_type": "code",
   "execution_count": 92,
   "id": "fe4b125e-c1ea-424b-a1aa-43e4b89dd302",
   "metadata": {},
   "outputs": [],
   "source": [
    "predictions = rfc.predict(X_test)"
   ]
  },
  {
   "cell_type": "code",
   "execution_count": null,
   "id": "4d4caf13-b9cf-447f-9b4c-fee2f537db12",
   "metadata": {},
   "outputs": [],
   "source": []
  },
  {
   "cell_type": "code",
   "execution_count": 93,
   "id": "37c49eec-fb65-4e4e-bdf1-4bfae70f169f",
   "metadata": {},
   "outputs": [
    {
     "name": "stdout",
     "output_type": "stream",
     "text": [
      "              precision    recall  f1-score   support\n",
      "\n",
      "           0       0.88      0.92      0.90      6840\n",
      "           1       0.71      0.63      0.66      2205\n",
      "\n",
      "    accuracy                           0.85      9045\n",
      "   macro avg       0.80      0.77      0.78      9045\n",
      "weighted avg       0.84      0.85      0.84      9045\n",
      "\n"
     ]
    }
   ],
   "source": [
    "print(classification_report(y_test,predictions))"
   ]
  },
  {
   "cell_type": "code",
   "execution_count": 94,
   "id": "71552ada-461c-410c-960e-38f65549f87a",
   "metadata": {},
   "outputs": [],
   "source": [
    "accuracy = (0.80/0.84)*100"
   ]
  },
  {
   "cell_type": "code",
   "execution_count": 95,
   "id": "32eb05f6-0446-490b-ae0d-d36b4737dd5e",
   "metadata": {},
   "outputs": [
    {
     "name": "stdout",
     "output_type": "stream",
     "text": [
      "95.23809523809524\n"
     ]
    }
   ],
   "source": [
    "print(accuracy)"
   ]
  },
  {
   "cell_type": "code",
   "execution_count": 96,
   "id": "85bc4ebc-b060-4f58-83c6-fcf0aaca4a16",
   "metadata": {},
   "outputs": [
    {
     "name": "stdout",
     "output_type": "stream",
     "text": [
      "[[6265  575]\n",
      " [ 823 1382]]\n"
     ]
    }
   ],
   "source": [
    "print(confusion_matrix(y_test,predictions))"
   ]
  },
  {
   "cell_type": "code",
   "execution_count": null,
   "id": "60f5d940-3b64-4fcd-871d-31b0ef682934",
   "metadata": {},
   "outputs": [],
   "source": []
  },
  {
   "cell_type": "code",
   "execution_count": null,
   "id": "811f9628-895b-4a65-8a36-3caddde1fe2a",
   "metadata": {},
   "outputs": [],
   "source": []
  },
  {
   "cell_type": "code",
   "execution_count": 97,
   "id": "bc66b8f2-e34a-45d3-9e14-95d53c0fb164",
   "metadata": {},
   "outputs": [],
   "source": [
    "from sklearn.svm import SVC"
   ]
  },
  {
   "cell_type": "code",
   "execution_count": 98,
   "id": "70667170-b7c2-45e2-95bc-4e7f08b1425b",
   "metadata": {},
   "outputs": [],
   "source": [
    "sv = SVC()"
   ]
  },
  {
   "cell_type": "code",
   "execution_count": 99,
   "id": "865d40e9-f813-4873-a800-a786260b4642",
   "metadata": {},
   "outputs": [
    {
     "data": {
      "text/plain": [
       "SVC()"
      ]
     },
     "execution_count": 99,
     "metadata": {},
     "output_type": "execute_result"
    }
   ],
   "source": [
    "sv.fit(X_train,y_train)"
   ]
  },
  {
   "cell_type": "code",
   "execution_count": 102,
   "id": "366c80d0-c812-4347-8320-1382d969d91b",
   "metadata": {},
   "outputs": [],
   "source": [
    "predictions = sv.predict(X_test)"
   ]
  },
  {
   "cell_type": "code",
   "execution_count": 103,
   "id": "3e6b132b-3c56-4293-b301-6ad22805ddc0",
   "metadata": {},
   "outputs": [
    {
     "name": "stdout",
     "output_type": "stream",
     "text": [
      "              precision    recall  f1-score   support\n",
      "\n",
      "           0       0.80      0.97      0.88      6840\n",
      "           1       0.73      0.27      0.39      2205\n",
      "\n",
      "    accuracy                           0.80      9045\n",
      "   macro avg       0.76      0.62      0.63      9045\n",
      "weighted avg       0.78      0.80      0.76      9045\n",
      "\n"
     ]
    }
   ],
   "source": [
    "print(classification_report(y_test,predictions))"
   ]
  },
  {
   "cell_type": "code",
   "execution_count": 104,
   "id": "a45a22f0-bcb1-43e4-a1e5-25ea643dab56",
   "metadata": {},
   "outputs": [
    {
     "name": "stdout",
     "output_type": "stream",
     "text": [
      "[[6617  223]\n",
      " [1616  589]]\n"
     ]
    }
   ],
   "source": [
    "print(confusion_matrix(y_test,predictions))"
   ]
  },
  {
   "cell_type": "code",
   "execution_count": null,
   "id": "7e535b64-53bb-46a1-8326-19bb6cbff8cc",
   "metadata": {},
   "outputs": [],
   "source": []
  },
  {
   "cell_type": "markdown",
   "id": "07e702e7-be0a-4897-9aa9-c383030af46d",
   "metadata": {},
   "source": [
    "## AdaBoost Classsifier"
   ]
  },
  {
   "cell_type": "code",
   "execution_count": 105,
   "id": "66a1bc78-ca61-4978-9c9b-57d17523b623",
   "metadata": {},
   "outputs": [],
   "source": [
    "from sklearn.ensemble import AdaBoostClassifier"
   ]
  },
  {
   "cell_type": "code",
   "execution_count": 106,
   "id": "05f94da1-0007-43a2-8e89-ee3cce7f86cf",
   "metadata": {},
   "outputs": [],
   "source": [
    "abc = AdaBoostClassifier()"
   ]
  },
  {
   "cell_type": "code",
   "execution_count": 107,
   "id": "c99725d4-c311-4de4-8607-59193f447f94",
   "metadata": {},
   "outputs": [
    {
     "data": {
      "text/plain": [
       "AdaBoostClassifier()"
      ]
     },
     "execution_count": 107,
     "metadata": {},
     "output_type": "execute_result"
    }
   ],
   "source": [
    "abc.fit(X_train,y_train)"
   ]
  },
  {
   "cell_type": "code",
   "execution_count": 108,
   "id": "f936e54a-fc88-4144-9600-165b92e439f1",
   "metadata": {},
   "outputs": [],
   "source": [
    "predictions = abc.predict(X_test)"
   ]
  },
  {
   "cell_type": "code",
   "execution_count": 109,
   "id": "d1d73f5b-0a51-4691-ad3b-43656883374d",
   "metadata": {},
   "outputs": [
    {
     "name": "stdout",
     "output_type": "stream",
     "text": [
      "              precision    recall  f1-score   support\n",
      "\n",
      "           0       0.88      0.94      0.91      6840\n",
      "           1       0.76      0.60      0.67      2205\n",
      "\n",
      "    accuracy                           0.86      9045\n",
      "   macro avg       0.82      0.77      0.79      9045\n",
      "weighted avg       0.85      0.86      0.85      9045\n",
      "\n"
     ]
    }
   ],
   "source": [
    "print(classification_report(y_test,predictions))"
   ]
  },
  {
   "cell_type": "code",
   "execution_count": 110,
   "id": "aae65a08-242f-40cf-ba04-43bad61e17ef",
   "metadata": {},
   "outputs": [
    {
     "name": "stdout",
     "output_type": "stream",
     "text": [
      "96.47058823529412\n"
     ]
    }
   ],
   "source": [
    "acc = (0.82/0.85)*100\n",
    "print(acc)"
   ]
  },
  {
   "cell_type": "code",
   "execution_count": 111,
   "id": "ed4a781b-160c-448b-95f7-dc76841a5b0f",
   "metadata": {},
   "outputs": [
    {
     "name": "stdout",
     "output_type": "stream",
     "text": [
      "[[6426  414]\n",
      " [ 874 1331]]\n"
     ]
    }
   ],
   "source": [
    "print(confusion_matrix(y_test,predictions))"
   ]
  },
  {
   "cell_type": "code",
   "execution_count": null,
   "id": "aaedeee5-d0e3-487d-9bab-ee415f96f8d5",
   "metadata": {},
   "outputs": [],
   "source": []
  },
  {
   "cell_type": "code",
   "execution_count": null,
   "id": "40c585dc-65b8-43b7-b510-ff6853363876",
   "metadata": {},
   "outputs": [],
   "source": []
  },
  {
   "cell_type": "markdown",
   "id": "65c4d4a8-ff64-43b0-abf2-4b33bbc0d12f",
   "metadata": {},
   "source": [
    "## This best performed Model is AdaBoostClassifier"
   ]
  },
  {
   "cell_type": "code",
   "execution_count": null,
   "id": "01138e48-baf2-446e-bf78-44c4481c3d9e",
   "metadata": {},
   "outputs": [],
   "source": []
  },
  {
   "cell_type": "markdown",
   "id": "f4350902-a32c-4de2-a8fc-017bea659f09",
   "metadata": {},
   "source": [
    "## Impoortant Feature Extraction"
   ]
  },
  {
   "cell_type": "code",
   "execution_count": null,
   "id": "f68c08ee-6206-42bd-a8df-fa2e4a05b345",
   "metadata": {},
   "outputs": [],
   "source": []
  },
  {
   "cell_type": "code",
   "execution_count": 115,
   "id": "f823c603-3501-4a47-be0c-673f185b7087",
   "metadata": {},
   "outputs": [
    {
     "data": {
      "image/png": "[encoded data removed]",
      "text/plain": [
       "<Figure size 648x360 with 1 Axes>"
      ]
     },
     "metadata": {},
     "output_type": "display_data"
    }
   ],
   "source": [
    "# TODO: Import a supervised learning model that has 'feature_importances_'\n",
    "\n",
    "# TODO: Train the supervised model on the training set \n",
    "model = AdaBoostClassifier().fit(X_train,y_train)\n",
    "\n",
    "# TODO: Extract the feature importances\n",
    "importances = model.feature_importances_\n",
    "\n",
    "# Plot\n",
    "vs.feature_plot(importances, X_train, y_train)"
   ]
  },
  {
   "cell_type": "code",
   "execution_count": null,
   "id": "3a7aef72-a39c-45f2-9a29-33966e06275c",
   "metadata": {},
   "outputs": [],
   "source": []
  },
  {
   "cell_type": "code",
   "execution_count": null,
   "id": "e43266bd-bfc0-4734-b553-5327f56e7cce",
   "metadata": {},
   "outputs": [],
   "source": []
  },
  {
   "cell_type": "code",
   "execution_count": null,
   "id": "f587dc25-27f0-4973-a908-108a2386a985",
   "metadata": {},
   "outputs": [],
   "source": []
  },
  {
   "cell_type": "code",
   "execution_count": null,
   "id": "4ab539b0-1391-4a7f-80e0-0c5902ce35a2",
   "metadata": {},
   "outputs": [],
   "source": []
  }
 ],
 "metadata": {
  "kernelspec": {
   "display_name": "Python 3 (ipykernel)",
   "language": "python",
   "name": "python3"
  },
  "language_info": {
   "codemirror_mode": {
    "name": "ipython",
    "version": 3
   },
   "file_extension": ".py",
   "mimetype": "text/x-python",
   "name": "python",
   "nbconvert_exporter": "python",
   "pygments_lexer": "ipython3",
   "version": "3.10.4"
  }
 },
 "nbformat": 4,
 "nbformat_minor": 5
}
